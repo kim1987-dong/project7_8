{
 "cells": [
  {
   "cell_type": "markdown",
   "metadata": {},
   "source": [
    "# 11주차 과제 - Git 작업"
   ]
  },
  {
   "cell_type": "markdown",
   "metadata": {},
   "source": [
    "- **작업 내용을 확인**하기 위해 만든 ipynb 파일입니다.\n",
    "- 작업 코드는 [코드_공유.py], [성능확인.ipynb] 파일에 정리 바랍니다.\n",
    "- 이 ipynb 파일에는 아래 내용을 포함합니다.\n",
    "    - 데이터 세팅 코드\n",
    "    - A_brach에서 이루어질 작업\n",
    "    - B_branch에서 이루어질 작업\n",
    "    - B_branch에서 작업을 하는 동안 Admin_branch에서 이루어질 작업\n",
    "    - Tester_branch에서 이루어질 작업"
   ]
  },
  {
   "cell_type": "markdown",
   "metadata": {},
   "source": [
    "---\n",
    "- **데이터 세팅 코드**"
   ]
  },
  {
   "cell_type": "markdown",
   "metadata": {},
   "source": [
    "- 데이터 세팅은 아래 코드를 사용하여 진행합니다."
   ]
  },
  {
   "cell_type": "code",
   "execution_count": null,
   "metadata": {},
   "outputs": [],
   "source": [
    "# 라이브러리 및 데이터 불러오기\n",
    "\n",
    "import warnings\n",
    "warnings.filterwarnings('ignore')\n",
    "\n",
    "import pandas as pd\n",
    "from sklearn.datasets import load_wine\n",
    "\n",
    "from sklearn.model_selection import train_test_split, GridSearchCV\n",
    "\n",
    "import matplotlib.pyplot as plt\n",
    "\n",
    "wine = load_wine()"
   ]
  },
  {
   "cell_type": "code",
   "execution_count": null,
   "metadata": {},
   "outputs": [],
   "source": [
    "# feature로 사용할 데이터에서는 'target' 컬럼을 drop합니다.\n",
    "# target은 'target' 컬럼만을 대상으로 합니다.\n",
    "# X, y 데이터를 test size는 0.2, random_state 값은 42로 하여 train 데이터와 test 데이터로 분할합니다.\n",
    "\n",
    "''' 해당 부분은 직접 작성 바랍니다 '''\n"
   ]
  },
  {
   "cell_type": "markdown",
   "metadata": {},
   "source": [
    "---\n",
    "- **A_brach에서 이루어질 작업**"
   ]
  },
  {
   "cell_type": "markdown",
   "metadata": {},
   "source": [
    "- A 작업자는 **DecisionTreeClassifier**을 사용한 모델링을 수행합니다.\n",
    "    - 데이터는 위에서 작업한 데이터를 사용합니다.\n",
    "    - GridSearch를 활용해 하이퍼파라미터 튜닝을 수행합니다.\n",
    "    - cv=5을 적용하여 최적의 하이퍼파라미터 조합을 찾습니다.\n",
    "    - 하이퍼 파라미터 튜닝 과정에서 모델 평가 기준은 **Accuracy**로 합니다.\n",
    "    - 최적의 하이퍼파라미터 조합을 찾은 후, **Feature Importance**를 시각화하여 모델이 어떤 변수를 중요하게 사용했는지 확인합니다."
   ]
  },
  {
   "cell_type": "markdown",
   "metadata": {},
   "source": [
    "- 하이퍼파라미터 후보는 아래와 같습니다.\n",
    "    - criterion: ['gini', 'entropy']\n",
    "    - max_depth: [2, 5]\n",
    "    - min_samples_split: [2,10]\n",
    "    - min_samples_leaf: [1, 2, 4]"
   ]
  },
  {
   "cell_type": "markdown",
   "metadata": {},
   "source": [
    "---\n",
    "- **B_branch에서 이루어질 작업**"
   ]
  },
  {
   "cell_type": "markdown",
   "metadata": {},
   "source": [
    "- A 작업자와 병렬로 작업을 수행합니다.  \n",
    " ※ A 작업자의 작업내용을 보지 못하는 상태입니다.\n",
    "\n",
    "- B 작업자는 **XGBClassifier**을 사용한 모델링을 수행합니다.\n",
    "    - 데이터는 위에서 작업한 데이터를 사용합니다.\n",
    "    - GridSearch를 활용해 하이퍼파라미터 튜닝을 수행합니다.\n",
    "    - cv=5을 적용하여 최적의 하이퍼파라미터 조합을 찾습니다.\n",
    "    - 모델의 성능 평가는 **Accuracy**를 기준으로 판단합니다."
   ]
  },
  {
   "cell_type": "markdown",
   "metadata": {},
   "source": [
    " - **하이퍼파라미터 후보**  \n",
    "    - max_depth: [3, 5, 7, 9, 15] \n",
    "    - learning_rate: [0.1, 0.01, 0.001]\n",
    "    - n_estimators: [50, 100, 200, 300]\n",
    "    - 최적의 하이퍼파라미터 조합을 찾은 후, **Feature Importance**를 시각화하여 모델이 어떤 변수를 중요하게 사용했는지 확인합니다."
   ]
  },
  {
   "cell_type": "markdown",
   "metadata": {},
   "source": [
    "---\n",
    "- **B_branch에서 작업을 하는 동안 Admin_branch에서 이루어질 작업**"
   ]
  },
  {
   "cell_type": "markdown",
   "metadata": {},
   "source": [
    "- DecisionTreeClassifier 모델에 대한 Admin_branch 작업\n",
    "- Admin_branch에서 DecisionTreeClassifier에 대한 추가 작업을 수행합니다.\n",
    "- A 작업자 작업수행 이후, B 작업자가 작업을 수행하는 동안 Admin_Branch에서 A 작업자 DecisionTreeClassifier 모델의 하이퍼 파라미터값을 조정합니다.\n",
    "- \"최대 깊이\" 하이퍼 파라미터 후보 리스트를 [2,3,4,5], \"노드 분할 최소 샘플 수' 후보 리스트를 [2, 5, 10]으로 변경합니다."
   ]
  },
  {
   "cell_type": "markdown",
   "metadata": {},
   "source": [
    "---\n",
    "- **Tester_brach에서 이루어질 작업**"
   ]
  },
  {
   "cell_type": "markdown",
   "metadata": {},
   "source": [
    "- 위에서 만든 DT, XGB 모델에 대한 성능 비교 테스트를 수행합니다.\n",
    "- 출력 결과는 Test_Result.ipynb 파일을 만들고 해당 파일에 기록합니다."
   ]
  }
 ],
 "metadata": {
  "kernelspec": {
   "display_name": "base",
   "language": "python",
   "name": "python3"
  },
  "language_info": {
   "name": "python",
   "version": "3.12.4"
  }
 },
 "nbformat": 4,
 "nbformat_minor": 2
}
